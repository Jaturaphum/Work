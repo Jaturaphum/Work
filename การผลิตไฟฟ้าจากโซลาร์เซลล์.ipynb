{
 "cells": [
  {
   "cell_type": "code",
   "execution_count": 1,
   "metadata": {},
   "outputs": [
    {
     "name": "stdout",
     "output_type": "stream",
     "text": [
      "การคำนวนปริมาณการผลิตไฟฟ้าจากโซลาร์เซลล์ โดยกำหนด\n",
      "กำลังการผลิตมี 300 กิโลวัตต์\n",
      "จำนวนชั่วโมงที่ผลิตในแต่ละวันคือ 5 ชั่วโมง\n",
      "กำลังการผลิตที่ผ่านไป 5 ชั่วโมงคือ 1500 กิโลวัตต์โดยนำ 300 กิโลวัตต์ มาคูณกับ 5 ชั่วโมง\n",
      "จำนวนวันต่อเดือนที่ได้คือ 45000 กิโลวัตต์ชั่วโมงต่อเดือน\n",
      "เนื่องจากพลังงานที่ใช้ได้จริงจะลดลงไปประมาณร้อยละ 20\n",
      "เพราะเกิดการสูญเสียพลังงานไปบางส่วนระหว่างการผลิตกระแสไฟฟ้า\n",
      "พลังงานวัตต์ที่ใช้ได้จริงต่อวันคือ 1200 กิโลวัตต์ชั่วโมงต่อวัน\n",
      "พลังงานวัตต์ที่ใช้ได้จริงต่อเดือนคือ 36000 กิโลวัตต์ชั่วโมงต่อเดือน\n"
     ]
    }
   ],
   "source": [
    "class การผลิตไฟฟ้าจากโซลาร์เซลล์:\n",
    "    capacity = ' '\n",
    "    hours = ' '\n",
    "    capacitytohours = ' '\n",
    "    month = ' '\n",
    "    capacitytoday = ' '\n",
    "    capacitytomonth = ' '\n",
    "    def __init__(self, capacity, hours, capacitytohours, month, capacitytoday, capacitytomonth):\n",
    "      self.capacity = capacity\n",
    "      self.hours = hours\n",
    "      self.capacitytohours = capacitytohours\n",
    "      self.month = month\n",
    "      self.capacitytoday = capacitytoday\n",
    "      self.capacitytomonth = capacitytomonth\n",
    "    def e1(self):\n",
    "      t1 = self.capacity  * 300\n",
    "      return t1\n",
    "    def e2(self):\n",
    "      t2 = self.hours * 5\n",
    "      return t2\n",
    "    def e3 (self):\n",
    "      t3 = self.capacitytohours * 300\n",
    "      return t3\n",
    "    def e4(self):\n",
    "      t4 = self.month * 30\n",
    "      return t4\n",
    "    def e5 (self):\n",
    "        t5 = self.capacitytoday * 1200\n",
    "        return t5\n",
    "    def e6 (self):\n",
    "        t6 = self.capacitytomonth * 36000\n",
    "        return t6\n",
    "df = การผลิตไฟฟ้าจากโซลาร์เซลล์(1, 1, 5, 1500, 1, 1)\n",
    "print( 'การคำนวนปริมาณการผลิตไฟฟ้าจากโซลาร์เซลล์ โดยกำหนด',\n",
    "    f'กำลังการผลิตมี {df.e1()} กิโลวัตต์',\n",
    "      f'จำนวนชั่วโมงที่ผลิตในแต่ละวันคือ {df.e2()} ชั่วโมง',\n",
    "      f'กำลังการผลิตที่ผ่านไป 5 ชั่วโมงคือ {df.e3()} กิโลวัตต์โดยนำ {df.e1()} กิโลวัตต์ มาคูณกับ {df.e2()} ชั่วโมง',\n",
    "      f'จำนวนวันต่อเดือนที่ได้คือ {df.e4()} กิโลวัตต์ชั่วโมงต่อเดือน',\n",
    "      'เนื่องจากพลังงานที่ใช้ได้จริงจะลดลงไปประมาณร้อยละ 20',\n",
    "      'เพราะเกิดการสูญเสียพลังงานไปบางส่วนระหว่างการผลิตกระแสไฟฟ้า',\n",
    "      f'พลังงานวัตต์ที่ใช้ได้จริงต่อวันคือ {df.e5()} กิโลวัตต์ชั่วโมงต่อวัน',\n",
    "      f'พลังงานวัตต์ที่ใช้ได้จริงต่อเดือนคือ {df.e6()} กิโลวัตต์ชั่วโมงต่อเดือน',\n",
    "      sep='\\n')"
   ]
  }
 ],
 "metadata": {
  "interpreter": {
   "hash": "b392b17bb912b79173c898bc62d419cb26a8919549a0a618478fecf805bb844e"
  },
  "kernelspec": {
   "display_name": "Python 3.9.9 64-bit (windows store)",
   "language": "python",
   "name": "python3"
  },
  "language_info": {
   "codemirror_mode": {
    "name": "ipython",
    "version": 3
   },
   "file_extension": ".py",
   "mimetype": "text/x-python",
   "name": "python",
   "nbconvert_exporter": "python",
   "pygments_lexer": "ipython3",
   "version": "3.9.9"
  },
  "orig_nbformat": 4
 },
 "nbformat": 4,
 "nbformat_minor": 2
}
