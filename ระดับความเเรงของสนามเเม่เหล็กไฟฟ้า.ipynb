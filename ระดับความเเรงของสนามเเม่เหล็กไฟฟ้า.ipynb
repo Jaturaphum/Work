{
 "cells": [
  {
   "cell_type": "code",
   "execution_count": 2,
   "metadata": {},
   "outputs": [
    {
     "name": "stdout",
     "output_type": "stream",
     "text": [
      "การคำนวณระดับความเเรงของสนามเเม่เหล็กไฟฟ้า\n",
      "ค่าสูงสุด 320 วัตต์/ตารางเมตร\n",
      "ค่าเฉลี่ย 240 วัตต์/ตารางเมตร\n",
      "ค่าต่ำสุด 220 วัตต์/ตารางเมตร\n",
      "ระบบโทรศัพท์เคลื่อนที่ย่านความถี่ 2100 เมกะเฮิร์ตซ์\n",
      "ความหนาเเน่นกำลัง 10 วัตต์/เมตร\n",
      "ตรวจวัดสนามเเม่เหล็กไฟฟ้าสูง 45 เมตร\n",
      "นายจตุรภูมิ เสือประโคน รหัสนิสิต 6440200373 สาขาวิศวกรรมคอมพิวเตอร์ คณะวิทยาศาสตร์เเละวิศวกรรมศาสตร์\n"
     ]
    }
   ],
   "source": [
    "class ระดับความเเรงของสนามเเม่เหล็กไฟฟ้า:\n",
    "        electric_maximumvalue =' '\n",
    "        electric_average =' '\n",
    "        electric_minimum = ' '\n",
    "        electric_mega =' '\n",
    "        electric_squaremeter =' '\n",
    "        electric_m =' '\n",
    "        def __init__(self, electric_maximumvalue, electric_average, electric_minimum, electric_mega, electric_squaremeter, electric_m):\n",
    "            self.electric_maximumvalue = electric_maximumvalue\n",
    "            self.electric_average = electric_average\n",
    "            self.electric_minimum = electric_minimum\n",
    "            self.electric_mega = electric_mega\n",
    "            self.electric_squaremeter = electric_squaremeter\n",
    "            self.electric_m = electric_m\n",
    "        def e1(self):\n",
    "            t1 = self.electric_maximumvalue * 320\n",
    "            return t1\n",
    "        def e2(self):\n",
    "            t2 = self.electric_average * 240\n",
    "            return t2\n",
    "        def e3(self):\n",
    "            t3 = self.electric_minimum * 220\n",
    "            return t3\n",
    "        def e4(self):\n",
    "            t4 = self.electric_mega * 2100\n",
    "            return t4\n",
    "        def e5(self):\n",
    "            t5 = self.electric_average * 10\n",
    "            return t5\n",
    "        def e6(self):\n",
    "            t6 = self.electric_m * 45\n",
    "            return t6\n",
    "df = ระดับความเเรงของสนามเเม่เหล็กไฟฟ้า(1, 1, 1, 1, 1, 1)\n",
    "print( 'การคำนวณระดับความเเรงของสนามเเม่เหล็กไฟฟ้า',\n",
    "    f'ค่าสูงสุด {df.e1()} วัตต์/ตารางเมตร',\n",
    "    f'ค่าเฉลี่ย {df.e2()} วัตต์/ตารางเมตร',\n",
    "    f'ค่าต่ำสุด {df.e3()} วัตต์/ตารางเมตร',\n",
    "    f'ระบบโทรศัพท์เคลื่อนที่ย่านความถี่ {df.e4()} เมกะเฮิร์ตซ์',\n",
    "    f'ความหนาเเน่นกำลัง {df.e5()} วัตต์/เมตร',\n",
    "    f'ตรวจวัดสนามเเม่เหล็กไฟฟ้าสูง {df.e6()} เมตร',\n",
    "    sep='\\n')\n",
    "def p1():\n",
    "    t1 = 'นายจตุรภูมิ เสือประโคน รหัสนิสิต 6440200373 สาขาวิศวกรรมคอมพิวเตอร์'\n",
    "    return t1\n",
    "print (\n",
    "    f'{p1()} คณะวิทยาศาสตร์เเละวิศวกรรมศาสตร์',\n",
    "        sep='\\n')\n",
    "    "
   ]
  }
 ],
 "metadata": {
  "kernelspec": {
   "display_name": "Python 3.10.6 64-bit",
   "language": "python",
   "name": "python3"
  },
  "language_info": {
   "codemirror_mode": {
    "name": "ipython",
    "version": 3
   },
   "file_extension": ".py",
   "mimetype": "text/x-python",
   "name": "python",
   "nbconvert_exporter": "python",
   "pygments_lexer": "ipython3",
   "version": "3.10.6"
  },
  "orig_nbformat": 4,
  "vscode": {
   "interpreter": {
    "hash": "787ba877beb19ba078f53ac2fd59d34afbb4a9233377d5c20eb2884fd2ed93bf"
   }
  }
 },
 "nbformat": 4,
 "nbformat_minor": 2
}
